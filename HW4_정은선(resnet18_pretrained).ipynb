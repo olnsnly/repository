{
  "nbformat": 4,
  "nbformat_minor": 0,
  "metadata": {
    "colab": {
      "provenance": [],
      "gpuType": "T4",
      "include_colab_link": true
    },
    "kernelspec": {
      "name": "python3",
      "display_name": "Python 3"
    },
    "language_info": {
      "name": "python"
    },
    "accelerator": "GPU",
    "gpuClass": "standard"
  },
  "cells": [
    {
      "cell_type": "markdown",
      "metadata": {
        "id": "view-in-github",
        "colab_type": "text"
      },
      "source": [
        "<a href=\"https://colab.research.google.com/github/olnsnly/repository/blob/main/HW4_%EC%A0%95%EC%9D%80%EC%84%A0(resnet18_pretrained).ipynb\" target=\"_parent\"><img src=\"https://colab.research.google.com/assets/colab-badge.svg\" alt=\"Open In Colab\"/></a>"
      ]
    },
    {
      "cell_type": "code",
      "source": [
        "from google.colab import drive\n",
        "drive.mount('/content/drive')\n",
        "\n"
      ],
      "metadata": {
        "id": "IBDll8UoT8OG",
        "outputId": "ec2ec1ab-7326-4285-c221-29fa7f1c2d90",
        "colab": {
          "base_uri": "https://localhost:8080/"
        }
      },
      "execution_count": null,
      "outputs": [
        {
          "output_type": "stream",
          "name": "stdout",
          "text": [
            "Mounted at /content/drive\n"
          ]
        }
      ]
    },
    {
      "cell_type": "code",
      "execution_count": null,
      "metadata": {
        "id": "ln1P8MGQhfk8"
      },
      "outputs": [],
      "source": [
        "import torch\n",
        "import torch.nn as nn\n",
        "import torch.optim as optim\n",
        "import torchvision\n",
        "import torchvision.transforms as transforms\n",
        "import matplotlib.pyplot as plt\n",
        "import numpy as np\n",
        "import torchvision.utils as utils"
      ]
    },
    {
      "cell_type": "code",
      "source": [
        "device = torch.device(\"cuda:0\" if torch.cuda.is_available() else \"cpu\")\n",
        "# Assuming that we are on a CUDA machine, this should print a CUDA device:\n",
        "print(device)"
      ],
      "metadata": {
        "colab": {
          "base_uri": "https://localhost:8080/"
        },
        "id": "Qf4tZfnrhtnd",
        "outputId": "f73a9cd8-f72d-4077-eb70-6e4b2dad11ff"
      },
      "execution_count": null,
      "outputs": [
        {
          "output_type": "stream",
          "name": "stdout",
          "text": [
            "cuda:0\n"
          ]
        }
      ]
    },
    {
      "cell_type": "code",
      "source": [
        "path_train = '/content/drive/MyDrive/인공지능 실습7/rsna2018/train'\n",
        "path_valid = '/content/drive/MyDrive/인공지능 실습7/rsna2018/valid'"
      ],
      "metadata": {
        "id": "iqJiCdVRhvB5"
      },
      "execution_count": null,
      "outputs": []
    },
    {
      "cell_type": "markdown",
      "source": [
        "## 영상데이터에 대한 전처리과정 정의하기"
      ],
      "metadata": {
        "id": "qDbPpEkipMN1"
      }
    },
    {
      "cell_type": "code",
      "source": [
        "train_transforms = transforms.Compose(\n",
        "      [\n",
        "          transforms.Grayscale(num_output_channels=1),\n",
        "          transforms.Resize((64,64)),\n",
        "          transforms.ToTensor(),\n",
        "      ]\n",
        "    )"
      ],
      "metadata": {
        "id": "-q1tk8EFhwiP"
      },
      "execution_count": null,
      "outputs": []
    },
    {
      "cell_type": "markdown",
      "source": [
        "## ImageFolder를 활용하여 data loader를 생성하기"
      ],
      "metadata": {
        "id": "TjuefJMopQfo"
      }
    },
    {
      "cell_type": "code",
      "source": [
        "batch_size = 32\n",
        "\n",
        "trainset = torchvision.datasets.ImageFolder(root = path_train,transform=train_transforms)\n",
        "validset = torchvision.datasets.ImageFolder(root = path_valid,transform=train_transforms)\n",
        "\n",
        "trainloader = torch.utils.data.DataLoader(trainset,batch_size=batch_size,shuffle=True)\n",
        "validloader = torch.utils.data.DataLoader(validset,batch_size=batch_size,shuffle=False)"
      ],
      "metadata": {
        "id": "-L9UIjoOhyuK"
      },
      "execution_count": null,
      "outputs": []
    },
    {
      "cell_type": "code",
      "source": [
        "tgtnames = trainset.classes\n",
        "print(tgtnames)"
      ],
      "metadata": {
        "colab": {
          "base_uri": "https://localhost:8080/"
        },
        "id": "UQSA0qZaiNQe",
        "outputId": "ec02ad6e-f436-4104-91d5-dd1370d1c015"
      },
      "execution_count": null,
      "outputs": [
        {
          "output_type": "stream",
          "name": "stdout",
          "text": [
            "['normal', 'opacity']\n"
          ]
        }
      ]
    },
    {
      "cell_type": "code",
      "source": [
        "print(len(trainset),len(validset))"
      ],
      "metadata": {
        "colab": {
          "base_uri": "https://localhost:8080/"
        },
        "id": "mFJvMEml0u-7",
        "outputId": "6b3d99d9-090f-45a7-d546-8e88ac0676cd"
      },
      "execution_count": null,
      "outputs": [
        {
          "output_type": "stream",
          "name": "stdout",
          "text": [
            "800 200\n"
          ]
        }
      ]
    },
    {
      "cell_type": "code",
      "source": [
        "for X, y in trainloader:\n",
        "  print(X.shape)\n",
        "  print(y.shape)\n",
        "  I = X[0][0].numpy()\n",
        "  plt.figure(dpi=128)\n",
        "  plt.imshow(I,cmap='gray')\n",
        "  plt.title(tgtnames[y[0]])\n",
        "  plt.show()\n",
        "  break"
      ],
      "metadata": {
        "colab": {
          "base_uri": "https://localhost:8080/",
          "height": 609
        },
        "id": "U_p89VZhidlg",
        "outputId": "24443df3-753b-47f3-c635-dc073d624629"
      },
      "execution_count": null,
      "outputs": [
        {
          "output_type": "stream",
          "name": "stdout",
          "text": [
            "torch.Size([32, 1, 64, 64])\n",
            "torch.Size([32])\n"
          ]
        },
        {
          "output_type": "display_data",
          "data": {
            "text/plain": [
              "<Figure size 819.2x614.4 with 1 Axes>"
            ],
            "image/png": "[encoded data removed]"
          },
          "metadata": {}
        }
      ]
    },
    {
      "cell_type": "markdown",
      "source": [
        "## CNN model을 정의해보기"
      ],
      "metadata": {
        "id": "tIDc6XSalIm8"
      }
    },
    {
      "cell_type": "code",
      "source": [
        "# load resnet18 with the pre-trained weights\n",
        "from torchvision import models\n",
        "import torch\n",
        "\n",
        "resnet18_pretrained = models.resnet18(pretrained=True)\n",
        "\n",
        "print(resnet18_pretrained)\n"
      ],
      "metadata": {
        "id": "Kw3zL2vsZNEE",
        "outputId": "c192e0f4-64b9-4bd3-d21d-9f17d25ddf3c",
        "colab": {
          "base_uri": "https://localhost:8080/"
        }
      },
      "execution_count": null,
      "outputs": [
        {
          "output_type": "stream",
          "name": "stderr",
          "text": [
            "/usr/local/lib/python3.10/dist-packages/torchvision/models/_utils.py:208: UserWarning: The parameter 'pretrained' is deprecated since 0.13 and may be removed in the future, please use 'weights' instead.\n",
            "  warnings.warn(\n",
            "/usr/local/lib/python3.10/dist-packages/torchvision/models/_utils.py:223: UserWarning: Arguments other than a weight enum or `None` for 'weights' are deprecated since 0.13 and may be removed in the future. The current behavior is equivalent to passing `weights=ResNet18_Weights.IMAGENET1K_V1`. You can also use `weights=ResNet18_Weights.DEFAULT` to get the most up-to-date weights.\n",
            "  warnings.warn(msg)\n"
          ]
        },
        {
          "output_type": "stream",
          "name": "stdout",
          "text": [
            "ResNet(\n",
            "  (conv1): Conv2d(3, 64, kernel_size=(7, 7), stride=(2, 2), padding=(3, 3), bias=False)\n",
            "  (bn1): BatchNorm2d(64, eps=1e-05, momentum=0.1, affine=True, track_running_stats=True)\n",
            "  (relu): ReLU(inplace=True)\n",
            "  (maxpool): MaxPool2d(kernel_size=3, stride=2, padding=1, dilation=1, ceil_mode=False)\n",
            "  (layer1): Sequential(\n",
            "    (0): BasicBlock(\n",
            "      (conv1): Conv2d(64, 64, kernel_size=(3, 3), stride=(1, 1), padding=(1, 1), bias=False)\n",
            "      (bn1): BatchNorm2d(64, eps=1e-05, momentum=0.1, affine=True, track_running_stats=True)\n",
            "      (relu): ReLU(inplace=True)\n",
            "      (conv2): Conv2d(64, 64, kernel_size=(3, 3), stride=(1, 1), padding=(1, 1), bias=False)\n",
            "      (bn2): BatchNorm2d(64, eps=1e-05, momentum=0.1, affine=True, track_running_stats=True)\n",
            "    )\n",
            "    (1): BasicBlock(\n",
            "      (conv1): Conv2d(64, 64, kernel_size=(3, 3), stride=(1, 1), padding=(1, 1), bias=False)\n",
            "      (bn1): BatchNorm2d(64, eps=1e-05, momentum=0.1, affine=True, track_running_stats=True)\n",
            "      (relu): ReLU(inplace=True)\n",
            "      (conv2): Conv2d(64, 64, kernel_size=(3, 3), stride=(1, 1), padding=(1, 1), bias=False)\n",
            "      (bn2): BatchNorm2d(64, eps=1e-05, momentum=0.1, affine=True, track_running_stats=True)\n",
            "    )\n",
            "  )\n",
            "  (layer2): Sequential(\n",
            "    (0): BasicBlock(\n",
            "      (conv1): Conv2d(64, 128, kernel_size=(3, 3), stride=(2, 2), padding=(1, 1), bias=False)\n",
            "      (bn1): BatchNorm2d(128, eps=1e-05, momentum=0.1, affine=True, track_running_stats=True)\n",
            "      (relu): ReLU(inplace=True)\n",
            "      (conv2): Conv2d(128, 128, kernel_size=(3, 3), stride=(1, 1), padding=(1, 1), bias=False)\n",
            "      (bn2): BatchNorm2d(128, eps=1e-05, momentum=0.1, affine=True, track_running_stats=True)\n",
            "      (downsample): Sequential(\n",
            "        (0): Conv2d(64, 128, kernel_size=(1, 1), stride=(2, 2), bias=False)\n",
            "        (1): BatchNorm2d(128, eps=1e-05, momentum=0.1, affine=True, track_running_stats=True)\n",
            "      )\n",
            "    )\n",
            "    (1): BasicBlock(\n",
            "      (conv1): Conv2d(128, 128, kernel_size=(3, 3), stride=(1, 1), padding=(1, 1), bias=False)\n",
            "      (bn1): BatchNorm2d(128, eps=1e-05, momentum=0.1, affine=True, track_running_stats=True)\n",
            "      (relu): ReLU(inplace=True)\n",
            "      (conv2): Conv2d(128, 128, kernel_size=(3, 3), stride=(1, 1), padding=(1, 1), bias=False)\n",
            "      (bn2): BatchNorm2d(128, eps=1e-05, momentum=0.1, affine=True, track_running_stats=True)\n",
            "    )\n",
            "  )\n",
            "  (layer3): Sequential(\n",
            "    (0): BasicBlock(\n",
            "      (conv1): Conv2d(128, 256, kernel_size=(3, 3), stride=(2, 2), padding=(1, 1), bias=False)\n",
            "      (bn1): BatchNorm2d(256, eps=1e-05, momentum=0.1, affine=True, track_running_stats=True)\n",
            "      (relu): ReLU(inplace=True)\n",
            "      (conv2): Conv2d(256, 256, kernel_size=(3, 3), stride=(1, 1), padding=(1, 1), bias=False)\n",
            "      (bn2): BatchNorm2d(256, eps=1e-05, momentum=0.1, affine=True, track_running_stats=True)\n",
            "      (downsample): Sequential(\n",
            "        (0): Conv2d(128, 256, kernel_size=(1, 1), stride=(2, 2), bias=False)\n",
            "        (1): BatchNorm2d(256, eps=1e-05, momentum=0.1, affine=True, track_running_stats=True)\n",
            "      )\n",
            "    )\n",
            "    (1): BasicBlock(\n",
            "      (conv1): Conv2d(256, 256, kernel_size=(3, 3), stride=(1, 1), padding=(1, 1), bias=False)\n",
            "      (bn1): BatchNorm2d(256, eps=1e-05, momentum=0.1, affine=True, track_running_stats=True)\n",
            "      (relu): ReLU(inplace=True)\n",
            "      (conv2): Conv2d(256, 256, kernel_size=(3, 3), stride=(1, 1), padding=(1, 1), bias=False)\n",
            "      (bn2): BatchNorm2d(256, eps=1e-05, momentum=0.1, affine=True, track_running_stats=True)\n",
            "    )\n",
            "  )\n",
            "  (layer4): Sequential(\n",
            "    (0): BasicBlock(\n",
            "      (conv1): Conv2d(256, 512, kernel_size=(3, 3), stride=(2, 2), padding=(1, 1), bias=False)\n",
            "      (bn1): BatchNorm2d(512, eps=1e-05, momentum=0.1, affine=True, track_running_stats=True)\n",
            "      (relu): ReLU(inplace=True)\n",
            "      (conv2): Conv2d(512, 512, kernel_size=(3, 3), stride=(1, 1), padding=(1, 1), bias=False)\n",
            "      (bn2): BatchNorm2d(512, eps=1e-05, momentum=0.1, affine=True, track_running_stats=True)\n",
            "      (downsample): Sequential(\n",
            "        (0): Conv2d(256, 512, kernel_size=(1, 1), stride=(2, 2), bias=False)\n",
            "        (1): BatchNorm2d(512, eps=1e-05, momentum=0.1, affine=True, track_running_stats=True)\n",
            "      )\n",
            "    )\n",
            "    (1): BasicBlock(\n",
            "      (conv1): Conv2d(512, 512, kernel_size=(3, 3), stride=(1, 1), padding=(1, 1), bias=False)\n",
            "      (bn1): BatchNorm2d(512, eps=1e-05, momentum=0.1, affine=True, track_running_stats=True)\n",
            "      (relu): ReLU(inplace=True)\n",
            "      (conv2): Conv2d(512, 512, kernel_size=(3, 3), stride=(1, 1), padding=(1, 1), bias=False)\n",
            "      (bn2): BatchNorm2d(512, eps=1e-05, momentum=0.1, affine=True, track_running_stats=True)\n",
            "    )\n",
            "  )\n",
            "  (avgpool): AdaptiveAvgPool2d(output_size=(1, 1))\n",
            "  (fc): Linear(in_features=512, out_features=1000, bias=True)\n",
            ")\n"
          ]
        }
      ]
    },
    {
      "cell_type": "code",
      "source": [
        "resnet18_pretrained.conv1 = nn.Conv2d(1, 64, kernel_size=(7, 7), stride=(2, 2), padding=(3, 3), bias=False)\n",
        "resnet18_pretrained.fc = nn.Linear(in_features=512, out_features=2, bias=True)"
      ],
      "metadata": {
        "id": "XShS1P5_ZQKf"
      },
      "execution_count": null,
      "outputs": []
    },
    {
      "cell_type": "code",
      "source": [
        "device = torch.device('cuda:0')\n",
        "resnet18_pretrained.to(device) "
      ],
      "metadata": {
        "id": "EyDvYnTXaJug",
        "outputId": "94a7f53c-8b58-4bd6-937e-fe2db82cb3f1",
        "colab": {
          "base_uri": "https://localhost:8080/"
        }
      },
      "execution_count": null,
      "outputs": [
        {
          "output_type": "execute_result",
          "data": {
            "text/plain": [
              "ResNet(\n",
              "  (conv1): Conv2d(1, 64, kernel_size=(7, 7), stride=(2, 2), padding=(3, 3), bias=False)\n",
              "  (bn1): BatchNorm2d(64, eps=1e-05, momentum=0.1, affine=True, track_running_stats=True)\n",
              "  (relu): ReLU(inplace=True)\n",
              "  (maxpool): MaxPool2d(kernel_size=3, stride=2, padding=1, dilation=1, ceil_mode=False)\n",
              "  (layer1): Sequential(\n",
              "    (0): BasicBlock(\n",
              "      (conv1): Conv2d(64, 64, kernel_size=(3, 3), stride=(1, 1), padding=(1, 1), bias=False)\n",
              "      (bn1): BatchNorm2d(64, eps=1e-05, momentum=0.1, affine=True, track_running_stats=True)\n",
              "      (relu): ReLU(inplace=True)\n",
              "      (conv2): Conv2d(64, 64, kernel_size=(3, 3), stride=(1, 1), padding=(1, 1), bias=False)\n",
              "      (bn2): BatchNorm2d(64, eps=1e-05, momentum=0.1, affine=True, track_running_stats=True)\n",
              "    )\n",
              "    (1): BasicBlock(\n",
              "      (conv1): Conv2d(64, 64, kernel_size=(3, 3), stride=(1, 1), padding=(1, 1), bias=False)\n",
              "      (bn1): BatchNorm2d(64, eps=1e-05, momentum=0.1, affine=True, track_running_stats=True)\n",
              "      (relu): ReLU(inplace=True)\n",
              "      (conv2): Conv2d(64, 64, kernel_size=(3, 3), stride=(1, 1), padding=(1, 1), bias=False)\n",
              "      (bn2): BatchNorm2d(64, eps=1e-05, momentum=0.1, affine=True, track_running_stats=True)\n",
              "    )\n",
              "  )\n",
              "  (layer2): Sequential(\n",
              "    (0): BasicBlock(\n",
              "      (conv1): Conv2d(64, 128, kernel_size=(3, 3), stride=(2, 2), padding=(1, 1), bias=False)\n",
              "      (bn1): BatchNorm2d(128, eps=1e-05, momentum=0.1, affine=True, track_running_stats=True)\n",
              "      (relu): ReLU(inplace=True)\n",
              "      (conv2): Conv2d(128, 128, kernel_size=(3, 3), stride=(1, 1), padding=(1, 1), bias=False)\n",
              "      (bn2): BatchNorm2d(128, eps=1e-05, momentum=0.1, affine=True, track_running_stats=True)\n",
              "      (downsample): Sequential(\n",
              "        (0): Conv2d(64, 128, kernel_size=(1, 1), stride=(2, 2), bias=False)\n",
              "        (1): BatchNorm2d(128, eps=1e-05, momentum=0.1, affine=True, track_running_stats=True)\n",
              "      )\n",
              "    )\n",
              "    (1): BasicBlock(\n",
              "      (conv1): Conv2d(128, 128, kernel_size=(3, 3), stride=(1, 1), padding=(1, 1), bias=False)\n",
              "      (bn1): BatchNorm2d(128, eps=1e-05, momentum=0.1, affine=True, track_running_stats=True)\n",
              "      (relu): ReLU(inplace=True)\n",
              "      (conv2): Conv2d(128, 128, kernel_size=(3, 3), stride=(1, 1), padding=(1, 1), bias=False)\n",
              "      (bn2): BatchNorm2d(128, eps=1e-05, momentum=0.1, affine=True, track_running_stats=True)\n",
              "    )\n",
              "  )\n",
              "  (layer3): Sequential(\n",
              "    (0): BasicBlock(\n",
              "      (conv1): Conv2d(128, 256, kernel_size=(3, 3), stride=(2, 2), padding=(1, 1), bias=False)\n",
              "      (bn1): BatchNorm2d(256, eps=1e-05, momentum=0.1, affine=True, track_running_stats=True)\n",
              "      (relu): ReLU(inplace=True)\n",
              "      (conv2): Conv2d(256, 256, kernel_size=(3, 3), stride=(1, 1), padding=(1, 1), bias=False)\n",
              "      (bn2): BatchNorm2d(256, eps=1e-05, momentum=0.1, affine=True, track_running_stats=True)\n",
              "      (downsample): Sequential(\n",
              "        (0): Conv2d(128, 256, kernel_size=(1, 1), stride=(2, 2), bias=False)\n",
              "        (1): BatchNorm2d(256, eps=1e-05, momentum=0.1, affine=True, track_running_stats=True)\n",
              "      )\n",
              "    )\n",
              "    (1): BasicBlock(\n",
              "      (conv1): Conv2d(256, 256, kernel_size=(3, 3), stride=(1, 1), padding=(1, 1), bias=False)\n",
              "      (bn1): BatchNorm2d(256, eps=1e-05, momentum=0.1, affine=True, track_running_stats=True)\n",
              "      (relu): ReLU(inplace=True)\n",
              "      (conv2): Conv2d(256, 256, kernel_size=(3, 3), stride=(1, 1), padding=(1, 1), bias=False)\n",
              "      (bn2): BatchNorm2d(256, eps=1e-05, momentum=0.1, affine=True, track_running_stats=True)\n",
              "    )\n",
              "  )\n",
              "  (layer4): Sequential(\n",
              "    (0): BasicBlock(\n",
              "      (conv1): Conv2d(256, 512, kernel_size=(3, 3), stride=(2, 2), padding=(1, 1), bias=False)\n",
              "      (bn1): BatchNorm2d(512, eps=1e-05, momentum=0.1, affine=True, track_running_stats=True)\n",
              "      (relu): ReLU(inplace=True)\n",
              "      (conv2): Conv2d(512, 512, kernel_size=(3, 3), stride=(1, 1), padding=(1, 1), bias=False)\n",
              "      (bn2): BatchNorm2d(512, eps=1e-05, momentum=0.1, affine=True, track_running_stats=True)\n",
              "      (downsample): Sequential(\n",
              "        (0): Conv2d(256, 512, kernel_size=(1, 1), stride=(2, 2), bias=False)\n",
              "        (1): BatchNorm2d(512, eps=1e-05, momentum=0.1, affine=True, track_running_stats=True)\n",
              "      )\n",
              "    )\n",
              "    (1): BasicBlock(\n",
              "      (conv1): Conv2d(512, 512, kernel_size=(3, 3), stride=(1, 1), padding=(1, 1), bias=False)\n",
              "      (bn1): BatchNorm2d(512, eps=1e-05, momentum=0.1, affine=True, track_running_stats=True)\n",
              "      (relu): ReLU(inplace=True)\n",
              "      (conv2): Conv2d(512, 512, kernel_size=(3, 3), stride=(1, 1), padding=(1, 1), bias=False)\n",
              "      (bn2): BatchNorm2d(512, eps=1e-05, momentum=0.1, affine=True, track_running_stats=True)\n",
              "    )\n",
              "  )\n",
              "  (avgpool): AdaptiveAvgPool2d(output_size=(1, 1))\n",
              "  (fc): Linear(in_features=512, out_features=2, bias=True)\n",
              ")"
            ]
          },
          "metadata": {},
          "execution_count": 37
        }
      ]
    },
    {
      "cell_type": "code",
      "source": [
        "# visualize the filters of the first CNN layer\n",
        "for w in resnet18_pretrained.parameters():\n",
        "    w = w.data.cpu()\n",
        "    print(w.shape)\n",
        "    break\n",
        "\n",
        "\n",
        "# normalize weights\n",
        "min_w = torch.min(w)\n",
        "w1 = (-1/(2 * min_w)) * w + 0.5\n",
        "\n",
        "# make grid to display it\n",
        "grid_size = len(w1)\n",
        "x_grid = [w1[i] for i in range(grid_size)]\n",
        "x_grid = utils.make_grid(x_grid, nrow=8, padding=1)\n",
        "\n",
        "plt.figure(figsize=(10, 10))\n",
        "plt.imshow(x_grid.permute(1,2,0))"
      ],
      "metadata": {
        "id": "reP9bziraNN8",
        "outputId": "9801af25-d088-4c62-e2cf-e63133d38ce7",
        "colab": {
          "base_uri": "https://localhost:8080/",
          "height": 867
        }
      },
      "execution_count": null,
      "outputs": [
        {
          "output_type": "stream",
          "name": "stdout",
          "text": [
            "torch.Size([64, 1, 7, 7])\n"
          ]
        },
        {
          "output_type": "execute_result",
          "data": {
            "text/plain": [
              "<matplotlib.image.AxesImage at 0x7f649e682d10>"
            ]
          },
          "metadata": {},
          "execution_count": 38
        },
        {
          "output_type": "display_data",
          "data": {
            "text/plain": [
              "<Figure size 1000x1000 with 1 Axes>"
            ],
            "image/png": "[encoded data removed]"
          },
          "metadata": {}
        }
      ]
    },
    {
      "cell_type": "markdown",
      "source": [
        "## Hyperparameter의 설정"
      ],
      "metadata": {
        "id": "ogtLDnU4mC0o"
      }
    },
    {
      "cell_type": "code",
      "source": [
        "# setting hyper-parameters\n",
        "learning_rate = .1\n",
        "num_epochs = 50\n",
        "\n",
        "# loss function and algorithm\n",
        "loss = torch.nn.CrossEntropyLoss() # loss\n",
        "alg = torch.optim.SGD(resnet18_pretrained.parameters(),lr=learning_rate) # sgd"
      ],
      "metadata": {
        "id": "JvKD6b6Fi4Q8"
      },
      "execution_count": null,
      "outputs": []
    },
    {
      "cell_type": "markdown",
      "source": [
        "## Model 학습 진행"
      ],
      "metadata": {
        "id": "flA_ZHSRmGKj"
      }
    },
    {
      "cell_type": "code",
      "source": [
        "# training the model\n",
        "loss_train = np.array([])\n",
        "accs_train = np.array([])\n",
        "accs_valid = np.array([])\n",
        "\n",
        "for epoch in range(num_epochs):\n",
        "    i=0\n",
        "    l_epoch = 0\n",
        "    correct = 0\n",
        "    resnet18_pretrained.train()\n",
        "    for X,y in trainloader:\n",
        "        i=i+1\n",
        "        X,y = X.to(device),y.to(device)\n",
        "        y_hat=resnet18_pretrained(X)\n",
        "        correct += (y_hat.argmax(dim=1)==y).sum()\n",
        "        l=loss(y_hat,y)\n",
        "        l_epoch+=l\n",
        "        alg.zero_grad()\n",
        "        l.backward()\n",
        "        alg.step()\n",
        "\n",
        "    loss_train = np.append(loss_train,l_epoch.cpu().detach().numpy()/i)\n",
        "    accs_train = np.append(accs_train,correct.cpu()/len(trainset))\n",
        "\n",
        "    correct = 0\n",
        "    resnet18_pretrained.eval()\n",
        "    for X,y in validloader:\n",
        "        X,y = X.to(device),y.to(device)\n",
        "        y_hat = resnet18_pretrained(X)\n",
        "        correct += (y_hat.argmax(dim=1)==y).sum()\n",
        "\n",
        "    accs_valid = np.append(accs_valid,correct.cpu()/len(validset))\n",
        "\n",
        "    plt.figure(2,dpi=80)\n",
        "    plt.subplot(121)\n",
        "    plt.plot(loss_train,label='train loss')\n",
        "    plt.legend(loc='upper right')\n",
        "    plt.subplot(122)\n",
        "    plt.plot(accs_train,label='train accuracy')\n",
        "    plt.plot(accs_valid,label='valid accuracy')\n",
        "    plt.legend(loc='upper left')\n",
        "    plt.title('epoch: %d '%(epoch))\n",
        "    plt.savefig('loss_curve.png')\n",
        "#        plt.show()\n",
        "    plt.close(2)\n",
        "\n",
        "    if epoch%5 == 0:\n",
        "        print('epoch: %d '%(epoch))\n",
        "        print('train loss: ',loss_train[-1])\n",
        "        print('train accuracy: ',accs_train[-1])\n",
        "        print('valid accuracy: ',accs_valid[-1])"
      ],
      "metadata": {
        "colab": {
          "base_uri": "https://localhost:8080/"
        },
        "id": "b3eiLUfAi9-_",
        "outputId": "decd6416-487c-4165-f20c-dc8ebfeb124d"
      },
      "execution_count": null,
      "outputs": [
        {
          "output_type": "stream",
          "name": "stdout",
          "text": [
            "epoch: 0 \n",
            "train loss:  5.198929443359375\n",
            "train accuracy:  0.5299999713897705\n",
            "valid accuracy:  0.5550000071525574\n",
            "epoch: 5 \n",
            "train loss:  0.80542724609375\n",
            "train accuracy:  0.7412499785423279\n",
            "valid accuracy:  0.5049999952316284\n",
            "epoch: 10 \n",
            "train loss:  0.48939014434814454\n",
            "train accuracy:  0.8212500214576721\n",
            "valid accuracy:  0.8650000095367432\n",
            "epoch: 15 \n",
            "train loss:  0.4651954650878906\n",
            "train accuracy:  0.8337500095367432\n",
            "valid accuracy:  0.7699999809265137\n",
            "epoch: 20 \n",
            "train loss:  0.22990079879760741\n",
            "train accuracy:  0.8924999833106995\n",
            "valid accuracy:  0.8849999904632568\n",
            "epoch: 25 \n",
            "train loss:  0.17428428649902344\n",
            "train accuracy:  0.9350000023841858\n",
            "valid accuracy:  0.8949999809265137\n",
            "epoch: 30 \n",
            "train loss:  0.10678805351257324\n",
            "train accuracy:  0.9487500190734863\n",
            "valid accuracy:  0.9300000071525574\n",
            "epoch: 35 \n",
            "train loss:  0.11308781623840332\n",
            "train accuracy:  0.9524999856948853\n",
            "valid accuracy:  0.9700000286102295\n",
            "epoch: 40 \n",
            "train loss:  0.09878410339355469\n",
            "train accuracy:  0.9599999785423279\n",
            "valid accuracy:  0.9150000214576721\n",
            "epoch: 45 \n",
            "train loss:  0.058901095390319826\n",
            "train accuracy:  0.981249988079071\n",
            "valid accuracy:  0.9350000023841858\n"
          ]
        }
      ]
    },
    {
      "cell_type": "markdown",
      "source": [
        "## 학습과정의 요약"
      ],
      "metadata": {
        "id": "0kfIevYmmIb5"
      }
    },
    {
      "cell_type": "code",
      "source": [
        "plt.figure(2,dpi=80)\n",
        "plt.subplot(121)\n",
        "plt.plot(loss_train,label='train loss')\n",
        "plt.legend(loc='upper right')\n",
        "plt.subplot(122)\n",
        "plt.plot(accs_train,label='train accuracy')\n",
        "plt.plot(accs_valid,label='valid accuracy')\n",
        "plt.legend(loc='lower right')\n",
        "plt.show()\n",
        "     "
      ],
      "metadata": {
        "colab": {
          "base_uri": "https://localhost:8080/",
          "height": 346
        },
        "id": "7i9M3VCVjDlq",
        "outputId": "72534974-a949-4901-fa4a-c9c266ee34b0"
      },
      "execution_count": null,
      "outputs": [
        {
          "output_type": "display_data",
          "data": {
            "text/plain": [
              "<Figure size 512x384 with 2 Axes>"
            ],
            "image/png": "[encoded data removed]"
          },
          "metadata": {}
        }
      ]
    },
    {
      "cell_type": "markdown",
      "source": [
        "## Validation set에 대한 개별결과 확인 (Inference)"
      ],
      "metadata": {
        "id": "TWff8ua4mKwk"
      }
    },
    {
      "cell_type": "code",
      "source": [
        "from PIL import Image"
      ],
      "metadata": {
        "id": "w0PxC7e5ob5O"
      },
      "execution_count": null,
      "outputs": []
    },
    {
      "cell_type": "code",
      "source": [
        "N = 42\n",
        "#validset.imgs[N][0]"
      ],
      "metadata": {
        "id": "upyV2wLpnltx"
      },
      "execution_count": null,
      "outputs": []
    },
    {
      "cell_type": "code",
      "source": [
        "I = Image.open(validset.imgs[N][0])\n",
        "X = train_transforms(I)\n",
        "y = validset.targets[N]\n",
        "\n",
        "print(tgtnames[y])\n",
        "I\n"
      ],
      "metadata": {
        "colab": {
          "base_uri": "https://localhost:8080/",
          "height": 163
        },
        "id": "vgYmC9w4nZ0t",
        "outputId": "ef9664a0-fbf2-4a75-a3d3-ea7c8487dece"
      },
      "execution_count": null,
      "outputs": [
        {
          "output_type": "stream",
          "name": "stdout",
          "text": [
            "normal\n"
          ]
        },
        {
          "output_type": "execute_result",
          "data": {
            "text/plain": [
              "<PIL.PngImagePlugin.PngImageFile image mode=L size=128x128 at 0x7F64872A75E0>"
            ],
            "image/png": "[encoded data removed]"
          },
          "metadata": {},
          "execution_count": 44
        }
      ]
    },
    {
      "cell_type": "code",
      "source": [
        "y_hat = resnet18_pretrained(X.unsqueeze(1).to(device))\n",
        "print(y_hat.cpu().detach().numpy())\n",
        "y_hat = y_hat.argmax(dim=1)\n",
        "print(f'prediction of resnet18_pretrained: {tgtnames[y_hat.cpu().numpy()[0]]}')"
      ],
      "metadata": {
        "colab": {
          "base_uri": "https://localhost:8080/"
        },
        "id": "yAwNBG47n-FL",
        "outputId": "e8551171-d66c-4382-9db2-d69facb15163"
      },
      "execution_count": null,
      "outputs": [
        {
          "output_type": "stream",
          "name": "stdout",
          "text": [
            "[[ 7.0374103 -6.77081  ]]\n",
            "prediction of resnet18_pretrained: normal\n"
          ]
        }
      ]
    },
    {
      "cell_type": "markdown",
      "source": [
        "## Validation set에 대한 결과 요약하기"
      ],
      "metadata": {
        "id": "gEB2G04vpaE8"
      }
    },
    {
      "cell_type": "code",
      "source": [
        "y_list = np.array([])\n",
        "y_hat_list = np.array([])\n",
        "for X,y in validloader:\n",
        "  y_hat = resnet18_pretrained(X.to(device))    \n",
        "  y_hat = y_hat.argmax(dim=1)\n",
        "  y_list = np.append(y_list,y)\n",
        "  y_hat_list = np.append(y_hat_list,y_hat.cpu().numpy())"
      ],
      "metadata": {
        "id": "9FXoyvR2jZXJ"
      },
      "execution_count": null,
      "outputs": []
    },
    {
      "cell_type": "code",
      "source": [
        "from sklearn.metrics import (\n",
        "    classification_report, confusion_matrix,\n",
        "    ConfusionMatrixDisplay\n",
        ")"
      ],
      "metadata": {
        "id": "RcDUULTbj6Ys"
      },
      "execution_count": null,
      "outputs": []
    },
    {
      "cell_type": "code",
      "source": [
        "print(classification_report(\n",
        "    y_list,\n",
        "    y_hat_list,\n",
        "    target_names=tgtnames))"
      ],
      "metadata": {
        "colab": {
          "base_uri": "https://localhost:8080/"
        },
        "id": "Y4Ie_xK4j71Q",
        "outputId": "50f8fd62-b4f7-427f-da86-c2118c134a3f"
      },
      "execution_count": null,
      "outputs": [
        {
          "output_type": "stream",
          "name": "stdout",
          "text": [
            "              precision    recall  f1-score   support\n",
            "\n",
            "      normal       1.00      1.00      1.00       100\n",
            "     opacity       1.00      1.00      1.00       100\n",
            "\n",
            "    accuracy                           1.00       200\n",
            "   macro avg       1.00      1.00      1.00       200\n",
            "weighted avg       1.00      1.00      1.00       200\n",
            "\n"
          ]
        }
      ]
    },
    {
      "cell_type": "code",
      "source": [
        "cm = confusion_matrix(\n",
        "    y_list,\n",
        "    y_hat_list,\n",
        "#    normalize='true',\n",
        ")\n",
        "disp = ConfusionMatrixDisplay(\n",
        "    confusion_matrix=cm,\n",
        "    display_labels=tgtnames,\n",
        ")\n",
        "disp.plot(ax=plt.subplots(1, 1, facecolor='white')[1])\n",
        "     "
      ],
      "metadata": {
        "colab": {
          "base_uri": "https://localhost:8080/",
          "height": 473
        },
        "id": "UKTExHEOj9Xm",
        "outputId": "8924efbe-7a50-404b-8e0b-4da2a07506d8"
      },
      "execution_count": null,
      "outputs": [
        {
          "output_type": "execute_result",
          "data": {
            "text/plain": [
              "<sklearn.metrics._plot.confusion_matrix.ConfusionMatrixDisplay at 0x7f64873b52a0>"
            ]
          },
          "metadata": {},
          "execution_count": 49
        },
        {
          "output_type": "display_data",
          "data": {
            "text/plain": [
              "<Figure size 640x480 with 2 Axes>"
            ],
            "image/png": "[encoded data removed]"
          },
          "metadata": {}
        }
      ]
    },
    {
      "cell_type": "code",
      "source": [],
      "metadata": {
        "id": "jcjJ2jzA0gIm"
      },
      "execution_count": null,
      "outputs": []
    }
  ]
}